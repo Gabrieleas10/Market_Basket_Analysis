{
 "metadata": {
  "language_info": {
   "codemirror_mode": {
    "name": "ipython",
    "version": 3
   },
   "file_extension": ".py",
   "mimetype": "text/x-python",
   "name": "python",
   "nbconvert_exporter": "python",
   "pygments_lexer": "ipython3",
   "version": "3.9.2-final"
  },
  "orig_nbformat": 2,
  "kernelspec": {
   "name": "python3",
   "display_name": "Python 3.9.2 64-bit",
   "metadata": {
    "interpreter": {
     "hash": "c33996a1a7c5fda85612bd918562506cfff69a3497605696c7a2bee4a3573303"
    }
   }
  }
 },
 "nbformat": 4,
 "nbformat_minor": 2,
 "cells": [
  {
   "cell_type": "code",
   "execution_count": 3,
   "metadata": {},
   "outputs": [],
   "source": [
    "# importing libs\n",
    "\n",
    "import pandas as pd\n",
    "from mlxtend.frequent_patterns import apriori\n",
    "from mlxtend.frequent_patterns import association_rules"
   ]
  },
  {
   "cell_type": "code",
   "execution_count": 10,
   "metadata": {},
   "outputs": [
    {
     "output_type": "execute_result",
     "data": {
      "text/plain": [
       "   Hair_Conditioner  Lemons  Standard_coffee  Frozen_Chicken_Wings  \\\n",
       "0                 0       0                0                     0   \n",
       "1                 0       0                0                     0   \n",
       "2                 0       0                0                     0   \n",
       "3                 0       0                0                     0   \n",
       "4                 0       0                0                     0   \n",
       "\n",
       "   98pct_Fat_Free_Hamburger  Sugar_Cookies  Onions  Deli_Ham  \\\n",
       "0                         0              0       0         0   \n",
       "1                         0              0       0         0   \n",
       "2                         0              0       0         0   \n",
       "3                         0              0       0         0   \n",
       "4                         0              0       0         0   \n",
       "\n",
       "   Dishwasher_Detergent  Beets  ...  Salt  Green_Beans  flav_Ice  \\\n",
       "0                     0      0  ...     0            0         0   \n",
       "1                     0      0  ...     0            0         0   \n",
       "2                     0      0  ...     0            0         0   \n",
       "3                     0      0  ...     0            0         0   \n",
       "4                     0      0  ...     0            0         0   \n",
       "\n",
       "   Imported_Beer  Grits  Apple_Jelly  Beef_Jerky  Potatoes  Small_Eggs  \\\n",
       "0              0      0            0           0         0           0   \n",
       "1              0      0            0           0         0           0   \n",
       "2              0      0            0           0         0           0   \n",
       "3              0      0            0           0         0           0   \n",
       "4              0      0            0           0         0           0   \n",
       "\n",
       "   Silver_Cleaner  \n",
       "0               0  \n",
       "1               0  \n",
       "2               0  \n",
       "3               0  \n",
       "4               0  \n",
       "\n",
       "[5 rows x 303 columns]"
      ],
      "text/html": "<div>\n<style scoped>\n    .dataframe tbody tr th:only-of-type {\n        vertical-align: middle;\n    }\n\n    .dataframe tbody tr th {\n        vertical-align: top;\n    }\n\n    .dataframe thead th {\n        text-align: right;\n    }\n</style>\n<table border=\"1\" class=\"dataframe\">\n  <thead>\n    <tr style=\"text-align: right;\">\n      <th></th>\n      <th>Hair_Conditioner</th>\n      <th>Lemons</th>\n      <th>Standard_coffee</th>\n      <th>Frozen_Chicken_Wings</th>\n      <th>98pct_Fat_Free_Hamburger</th>\n      <th>Sugar_Cookies</th>\n      <th>Onions</th>\n      <th>Deli_Ham</th>\n      <th>Dishwasher_Detergent</th>\n      <th>Beets</th>\n      <th>...</th>\n      <th>Salt</th>\n      <th>Green_Beans</th>\n      <th>flav_Ice</th>\n      <th>Imported_Beer</th>\n      <th>Grits</th>\n      <th>Apple_Jelly</th>\n      <th>Beef_Jerky</th>\n      <th>Potatoes</th>\n      <th>Small_Eggs</th>\n      <th>Silver_Cleaner</th>\n    </tr>\n  </thead>\n  <tbody>\n    <tr>\n      <th>0</th>\n      <td>0</td>\n      <td>0</td>\n      <td>0</td>\n      <td>0</td>\n      <td>0</td>\n      <td>0</td>\n      <td>0</td>\n      <td>0</td>\n      <td>0</td>\n      <td>0</td>\n      <td>...</td>\n      <td>0</td>\n      <td>0</td>\n      <td>0</td>\n      <td>0</td>\n      <td>0</td>\n      <td>0</td>\n      <td>0</td>\n      <td>0</td>\n      <td>0</td>\n      <td>0</td>\n    </tr>\n    <tr>\n      <th>1</th>\n      <td>0</td>\n      <td>0</td>\n      <td>0</td>\n      <td>0</td>\n      <td>0</td>\n      <td>0</td>\n      <td>0</td>\n      <td>0</td>\n      <td>0</td>\n      <td>0</td>\n      <td>...</td>\n      <td>0</td>\n      <td>0</td>\n      <td>0</td>\n      <td>0</td>\n      <td>0</td>\n      <td>0</td>\n      <td>0</td>\n      <td>0</td>\n      <td>0</td>\n      <td>0</td>\n    </tr>\n    <tr>\n      <th>2</th>\n      <td>0</td>\n      <td>0</td>\n      <td>0</td>\n      <td>0</td>\n      <td>0</td>\n      <td>0</td>\n      <td>0</td>\n      <td>0</td>\n      <td>0</td>\n      <td>0</td>\n      <td>...</td>\n      <td>0</td>\n      <td>0</td>\n      <td>0</td>\n      <td>0</td>\n      <td>0</td>\n      <td>0</td>\n      <td>0</td>\n      <td>0</td>\n      <td>0</td>\n      <td>0</td>\n    </tr>\n    <tr>\n      <th>3</th>\n      <td>0</td>\n      <td>0</td>\n      <td>0</td>\n      <td>0</td>\n      <td>0</td>\n      <td>0</td>\n      <td>0</td>\n      <td>0</td>\n      <td>0</td>\n      <td>0</td>\n      <td>...</td>\n      <td>0</td>\n      <td>0</td>\n      <td>0</td>\n      <td>0</td>\n      <td>0</td>\n      <td>0</td>\n      <td>0</td>\n      <td>0</td>\n      <td>0</td>\n      <td>0</td>\n    </tr>\n    <tr>\n      <th>4</th>\n      <td>0</td>\n      <td>0</td>\n      <td>0</td>\n      <td>0</td>\n      <td>0</td>\n      <td>0</td>\n      <td>0</td>\n      <td>0</td>\n      <td>0</td>\n      <td>0</td>\n      <td>...</td>\n      <td>0</td>\n      <td>0</td>\n      <td>0</td>\n      <td>0</td>\n      <td>0</td>\n      <td>0</td>\n      <td>0</td>\n      <td>0</td>\n      <td>0</td>\n      <td>0</td>\n    </tr>\n  </tbody>\n</table>\n<p>5 rows × 303 columns</p>\n</div>"
     },
     "metadata": {},
     "execution_count": 10
    }
   ],
   "source": [
    "# load dataset\n",
    "\n",
    "df = pd.read_excel('E:\\Projects\\Market_Basket_Analysis\\market_basket.xlsx' )\n",
    "df.head()"
   ]
  },
  {
   "cell_type": "code",
   "execution_count": 7,
   "metadata": {},
   "outputs": [
    {
     "output_type": "execute_result",
     "data": {
      "text/plain": [
       "   Hair_Conditioner  Lemons  Standard_coffee  Frozen_Chicken_Wings  \\\n",
       "0                 0       0                0                     0   \n",
       "1                 0       0                0                     0   \n",
       "2                 0       0                0                     0   \n",
       "3                 0       0                0                     0   \n",
       "4                 0       0                0                     0   \n",
       "\n",
       "   98pct_Fat_Free_Hamburger  Sugar_Cookies  Onions  Deli_Ham  \\\n",
       "0                         0              0       0         0   \n",
       "1                         0              0       0         0   \n",
       "2                         0              0       0         0   \n",
       "3                         0              0       0         0   \n",
       "4                         0              0       0         0   \n",
       "\n",
       "   Dishwasher_Detergent  Beets  ...  Green_Beans  flav_Ice  Imported_Beer  \\\n",
       "0                     0      0  ...            0         0              0   \n",
       "1                     0      0  ...            0         0              0   \n",
       "2                     0      0  ...            0         0              0   \n",
       "3                     0      0  ...            0         0              0   \n",
       "4                     0      0  ...            0         0              0   \n",
       "\n",
       "   Grits  Apple_Jelly  Beef_Jerky  Potatoes  Small_Eggs  Silver_Cleaner  \\\n",
       "0      0            0           0         0           0               0   \n",
       "1      0            0           0         0           0               0   \n",
       "2      0            0           0         0           0               0   \n",
       "3      0            0           0         0           0               0   \n",
       "4      0            0           0         0           0               0   \n",
       "\n",
       "   Description  \n",
       "0            0  \n",
       "1            1  \n",
       "2            2  \n",
       "3            3  \n",
       "4            4  \n",
       "\n",
       "[5 rows x 304 columns]"
      ],
      "text/html": "<div>\n<style scoped>\n    .dataframe tbody tr th:only-of-type {\n        vertical-align: middle;\n    }\n\n    .dataframe tbody tr th {\n        vertical-align: top;\n    }\n\n    .dataframe thead th {\n        text-align: right;\n    }\n</style>\n<table border=\"1\" class=\"dataframe\">\n  <thead>\n    <tr style=\"text-align: right;\">\n      <th></th>\n      <th>Hair_Conditioner</th>\n      <th>Lemons</th>\n      <th>Standard_coffee</th>\n      <th>Frozen_Chicken_Wings</th>\n      <th>98pct_Fat_Free_Hamburger</th>\n      <th>Sugar_Cookies</th>\n      <th>Onions</th>\n      <th>Deli_Ham</th>\n      <th>Dishwasher_Detergent</th>\n      <th>Beets</th>\n      <th>...</th>\n      <th>Green_Beans</th>\n      <th>flav_Ice</th>\n      <th>Imported_Beer</th>\n      <th>Grits</th>\n      <th>Apple_Jelly</th>\n      <th>Beef_Jerky</th>\n      <th>Potatoes</th>\n      <th>Small_Eggs</th>\n      <th>Silver_Cleaner</th>\n      <th>Description</th>\n    </tr>\n  </thead>\n  <tbody>\n    <tr>\n      <th>0</th>\n      <td>0</td>\n      <td>0</td>\n      <td>0</td>\n      <td>0</td>\n      <td>0</td>\n      <td>0</td>\n      <td>0</td>\n      <td>0</td>\n      <td>0</td>\n      <td>0</td>\n      <td>...</td>\n      <td>0</td>\n      <td>0</td>\n      <td>0</td>\n      <td>0</td>\n      <td>0</td>\n      <td>0</td>\n      <td>0</td>\n      <td>0</td>\n      <td>0</td>\n      <td>0</td>\n    </tr>\n    <tr>\n      <th>1</th>\n      <td>0</td>\n      <td>0</td>\n      <td>0</td>\n      <td>0</td>\n      <td>0</td>\n      <td>0</td>\n      <td>0</td>\n      <td>0</td>\n      <td>0</td>\n      <td>0</td>\n      <td>...</td>\n      <td>0</td>\n      <td>0</td>\n      <td>0</td>\n      <td>0</td>\n      <td>0</td>\n      <td>0</td>\n      <td>0</td>\n      <td>0</td>\n      <td>0</td>\n      <td>1</td>\n    </tr>\n    <tr>\n      <th>2</th>\n      <td>0</td>\n      <td>0</td>\n      <td>0</td>\n      <td>0</td>\n      <td>0</td>\n      <td>0</td>\n      <td>0</td>\n      <td>0</td>\n      <td>0</td>\n      <td>0</td>\n      <td>...</td>\n      <td>0</td>\n      <td>0</td>\n      <td>0</td>\n      <td>0</td>\n      <td>0</td>\n      <td>0</td>\n      <td>0</td>\n      <td>0</td>\n      <td>0</td>\n      <td>2</td>\n    </tr>\n    <tr>\n      <th>3</th>\n      <td>0</td>\n      <td>0</td>\n      <td>0</td>\n      <td>0</td>\n      <td>0</td>\n      <td>0</td>\n      <td>0</td>\n      <td>0</td>\n      <td>0</td>\n      <td>0</td>\n      <td>...</td>\n      <td>0</td>\n      <td>0</td>\n      <td>0</td>\n      <td>0</td>\n      <td>0</td>\n      <td>0</td>\n      <td>0</td>\n      <td>0</td>\n      <td>0</td>\n      <td>3</td>\n    </tr>\n    <tr>\n      <th>4</th>\n      <td>0</td>\n      <td>0</td>\n      <td>0</td>\n      <td>0</td>\n      <td>0</td>\n      <td>0</td>\n      <td>0</td>\n      <td>0</td>\n      <td>0</td>\n      <td>0</td>\n      <td>...</td>\n      <td>0</td>\n      <td>0</td>\n      <td>0</td>\n      <td>0</td>\n      <td>0</td>\n      <td>0</td>\n      <td>0</td>\n      <td>0</td>\n      <td>0</td>\n      <td>4</td>\n    </tr>\n  </tbody>\n</table>\n<p>5 rows × 304 columns</p>\n</div>"
     },
     "metadata": {},
     "execution_count": 7
    }
   ],
   "source": [
    "df.head()"
   ]
  },
  {
   "cell_type": "code",
   "execution_count": 36,
   "metadata": {},
   "outputs": [],
   "source": [
    "# functions\n",
    "\n",
    "def encode_units(x):\n",
    "    if x <= 0:\n",
    "        return 0\n",
    "    if x >= 1:\n",
    "        return 1\n",
    "\n",
    "basket_sets = df.applymap(encode_units)"
   ]
  },
  {
   "cell_type": "code",
   "execution_count": 37,
   "metadata": {},
   "outputs": [],
   "source": [
    "# apriori rules\n",
    "\n",
    "frequent_itemsets = apriori(basket_sets, min_support=0.05, use_colnames=True)"
   ]
  },
  {
   "cell_type": "code",
   "execution_count": 38,
   "metadata": {},
   "outputs": [
    {
     "output_type": "execute_result",
     "data": {
      "text/plain": [
       "      antecedents     consequents  antecedent support  consequent support  \\\n",
       "1  (Potato_Chips)   (White_Bread)            0.097722            0.119030   \n",
       "3     (2pct_Milk)          (Eggs)            0.109478            0.122704   \n",
       "4     (2pct_Milk)   (White_Bread)            0.109478            0.119030   \n",
       "7   (White_Bread)          (Eggs)            0.119030            0.122704   \n",
       "6          (Eggs)   (White_Bread)            0.122704            0.119030   \n",
       "0   (White_Bread)  (Potato_Chips)            0.119030            0.097722   \n",
       "5   (White_Bread)     (2pct_Milk)            0.119030            0.109478   \n",
       "2          (Eggs)     (2pct_Milk)            0.122704            0.109478   \n",
       "\n",
       "    support  confidence      lift  leverage  conviction  \n",
       "1  0.051433    0.526316  4.421702  0.039801    1.859825  \n",
       "3  0.052168    0.476510  3.883414  0.038734    1.675861  \n",
       "4  0.051433    0.469799  3.946889  0.038402    1.661576  \n",
       "7  0.055107    0.462963  3.773010  0.040501    1.633586  \n",
       "6  0.055107    0.449102  3.773010  0.040501    1.599152  \n",
       "0  0.051433    0.432099  4.421702  0.039801    1.588793  \n",
       "5  0.051433    0.432099  3.946889  0.038402    1.568093  \n",
       "2  0.052168    0.425150  3.883414  0.038734    1.549137  "
      ],
      "text/html": "<div>\n<style scoped>\n    .dataframe tbody tr th:only-of-type {\n        vertical-align: middle;\n    }\n\n    .dataframe tbody tr th {\n        vertical-align: top;\n    }\n\n    .dataframe thead th {\n        text-align: right;\n    }\n</style>\n<table border=\"1\" class=\"dataframe\">\n  <thead>\n    <tr style=\"text-align: right;\">\n      <th></th>\n      <th>antecedents</th>\n      <th>consequents</th>\n      <th>antecedent support</th>\n      <th>consequent support</th>\n      <th>support</th>\n      <th>confidence</th>\n      <th>lift</th>\n      <th>leverage</th>\n      <th>conviction</th>\n    </tr>\n  </thead>\n  <tbody>\n    <tr>\n      <th>1</th>\n      <td>(Potato_Chips)</td>\n      <td>(White_Bread)</td>\n      <td>0.097722</td>\n      <td>0.119030</td>\n      <td>0.051433</td>\n      <td>0.526316</td>\n      <td>4.421702</td>\n      <td>0.039801</td>\n      <td>1.859825</td>\n    </tr>\n    <tr>\n      <th>3</th>\n      <td>(2pct_Milk)</td>\n      <td>(Eggs)</td>\n      <td>0.109478</td>\n      <td>0.122704</td>\n      <td>0.052168</td>\n      <td>0.476510</td>\n      <td>3.883414</td>\n      <td>0.038734</td>\n      <td>1.675861</td>\n    </tr>\n    <tr>\n      <th>4</th>\n      <td>(2pct_Milk)</td>\n      <td>(White_Bread)</td>\n      <td>0.109478</td>\n      <td>0.119030</td>\n      <td>0.051433</td>\n      <td>0.469799</td>\n      <td>3.946889</td>\n      <td>0.038402</td>\n      <td>1.661576</td>\n    </tr>\n    <tr>\n      <th>7</th>\n      <td>(White_Bread)</td>\n      <td>(Eggs)</td>\n      <td>0.119030</td>\n      <td>0.122704</td>\n      <td>0.055107</td>\n      <td>0.462963</td>\n      <td>3.773010</td>\n      <td>0.040501</td>\n      <td>1.633586</td>\n    </tr>\n    <tr>\n      <th>6</th>\n      <td>(Eggs)</td>\n      <td>(White_Bread)</td>\n      <td>0.122704</td>\n      <td>0.119030</td>\n      <td>0.055107</td>\n      <td>0.449102</td>\n      <td>3.773010</td>\n      <td>0.040501</td>\n      <td>1.599152</td>\n    </tr>\n    <tr>\n      <th>0</th>\n      <td>(White_Bread)</td>\n      <td>(Potato_Chips)</td>\n      <td>0.119030</td>\n      <td>0.097722</td>\n      <td>0.051433</td>\n      <td>0.432099</td>\n      <td>4.421702</td>\n      <td>0.039801</td>\n      <td>1.588793</td>\n    </tr>\n    <tr>\n      <th>5</th>\n      <td>(White_Bread)</td>\n      <td>(2pct_Milk)</td>\n      <td>0.119030</td>\n      <td>0.109478</td>\n      <td>0.051433</td>\n      <td>0.432099</td>\n      <td>3.946889</td>\n      <td>0.038402</td>\n      <td>1.568093</td>\n    </tr>\n    <tr>\n      <th>2</th>\n      <td>(Eggs)</td>\n      <td>(2pct_Milk)</td>\n      <td>0.122704</td>\n      <td>0.109478</td>\n      <td>0.052168</td>\n      <td>0.425150</td>\n      <td>3.883414</td>\n      <td>0.038734</td>\n      <td>1.549137</td>\n    </tr>\n  </tbody>\n</table>\n</div>"
     },
     "metadata": {},
     "execution_count": 38
    }
   ],
   "source": [
    "# creating rules\n",
    "\n",
    "rules = association_rules(frequent_itemsets, metric=\"lift\", min_threshold=1)\n",
    "rules.sort_values(by= 'confidence',ascending=False)"
   ]
  },
  {
   "cell_type": "code",
   "execution_count": 34,
   "metadata": {},
   "outputs": [],
   "source": []
  },
  {
   "cell_type": "code",
   "execution_count": 35,
   "metadata": {},
   "outputs": [
    {
     "output_type": "execute_result",
     "data": {
      "text/plain": [
       "      antecedents     consequents  antecedent support  consequent support  \\\n",
       "0   (White_Bread)  (Potato_Chips)            0.119030            0.097722   \n",
       "1  (Potato_Chips)   (White_Bread)            0.097722            0.119030   \n",
       "2          (Eggs)     (2pct_Milk)            0.122704            0.109478   \n",
       "3     (2pct_Milk)          (Eggs)            0.109478            0.122704   \n",
       "4     (2pct_Milk)   (White_Bread)            0.109478            0.119030   \n",
       "5   (White_Bread)     (2pct_Milk)            0.119030            0.109478   \n",
       "6          (Eggs)   (White_Bread)            0.122704            0.119030   \n",
       "7   (White_Bread)          (Eggs)            0.119030            0.122704   \n",
       "\n",
       "    support  confidence      lift  leverage  conviction  \n",
       "0  0.051433    0.432099  4.421702  0.039801    1.588793  \n",
       "1  0.051433    0.526316  4.421702  0.039801    1.859825  \n",
       "2  0.052168    0.425150  3.883414  0.038734    1.549137  \n",
       "3  0.052168    0.476510  3.883414  0.038734    1.675861  \n",
       "4  0.051433    0.469799  3.946889  0.038402    1.661576  \n",
       "5  0.051433    0.432099  3.946889  0.038402    1.568093  \n",
       "6  0.055107    0.449102  3.773010  0.040501    1.599152  \n",
       "7  0.055107    0.462963  3.773010  0.040501    1.633586  "
      ],
      "text/html": "<div>\n<style scoped>\n    .dataframe tbody tr th:only-of-type {\n        vertical-align: middle;\n    }\n\n    .dataframe tbody tr th {\n        vertical-align: top;\n    }\n\n    .dataframe thead th {\n        text-align: right;\n    }\n</style>\n<table border=\"1\" class=\"dataframe\">\n  <thead>\n    <tr style=\"text-align: right;\">\n      <th></th>\n      <th>antecedents</th>\n      <th>consequents</th>\n      <th>antecedent support</th>\n      <th>consequent support</th>\n      <th>support</th>\n      <th>confidence</th>\n      <th>lift</th>\n      <th>leverage</th>\n      <th>conviction</th>\n    </tr>\n  </thead>\n  <tbody>\n    <tr>\n      <th>0</th>\n      <td>(White_Bread)</td>\n      <td>(Potato_Chips)</td>\n      <td>0.119030</td>\n      <td>0.097722</td>\n      <td>0.051433</td>\n      <td>0.432099</td>\n      <td>4.421702</td>\n      <td>0.039801</td>\n      <td>1.588793</td>\n    </tr>\n    <tr>\n      <th>1</th>\n      <td>(Potato_Chips)</td>\n      <td>(White_Bread)</td>\n      <td>0.097722</td>\n      <td>0.119030</td>\n      <td>0.051433</td>\n      <td>0.526316</td>\n      <td>4.421702</td>\n      <td>0.039801</td>\n      <td>1.859825</td>\n    </tr>\n    <tr>\n      <th>2</th>\n      <td>(Eggs)</td>\n      <td>(2pct_Milk)</td>\n      <td>0.122704</td>\n      <td>0.109478</td>\n      <td>0.052168</td>\n      <td>0.425150</td>\n      <td>3.883414</td>\n      <td>0.038734</td>\n      <td>1.549137</td>\n    </tr>\n    <tr>\n      <th>3</th>\n      <td>(2pct_Milk)</td>\n      <td>(Eggs)</td>\n      <td>0.109478</td>\n      <td>0.122704</td>\n      <td>0.052168</td>\n      <td>0.476510</td>\n      <td>3.883414</td>\n      <td>0.038734</td>\n      <td>1.675861</td>\n    </tr>\n    <tr>\n      <th>4</th>\n      <td>(2pct_Milk)</td>\n      <td>(White_Bread)</td>\n      <td>0.109478</td>\n      <td>0.119030</td>\n      <td>0.051433</td>\n      <td>0.469799</td>\n      <td>3.946889</td>\n      <td>0.038402</td>\n      <td>1.661576</td>\n    </tr>\n    <tr>\n      <th>5</th>\n      <td>(White_Bread)</td>\n      <td>(2pct_Milk)</td>\n      <td>0.119030</td>\n      <td>0.109478</td>\n      <td>0.051433</td>\n      <td>0.432099</td>\n      <td>3.946889</td>\n      <td>0.038402</td>\n      <td>1.568093</td>\n    </tr>\n    <tr>\n      <th>6</th>\n      <td>(Eggs)</td>\n      <td>(White_Bread)</td>\n      <td>0.122704</td>\n      <td>0.119030</td>\n      <td>0.055107</td>\n      <td>0.449102</td>\n      <td>3.773010</td>\n      <td>0.040501</td>\n      <td>1.599152</td>\n    </tr>\n    <tr>\n      <th>7</th>\n      <td>(White_Bread)</td>\n      <td>(Eggs)</td>\n      <td>0.119030</td>\n      <td>0.122704</td>\n      <td>0.055107</td>\n      <td>0.462963</td>\n      <td>3.773010</td>\n      <td>0.040501</td>\n      <td>1.633586</td>\n    </tr>\n  </tbody>\n</table>\n</div>"
     },
     "metadata": {},
     "execution_count": 35
    }
   ],
   "source": []
  }
 ]
}